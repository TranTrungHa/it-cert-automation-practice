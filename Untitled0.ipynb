{
  "nbformat": 4,
  "nbformat_minor": 0,
  "metadata": {
    "colab": {
      "provenance": [],
      "authorship_tag": "ABX9TyP1ThZ77yV9ct30nZ78nPgV",
      "include_colab_link": true
    },
    "kernelspec": {
      "name": "python3",
      "display_name": "Python 3"
    },
    "language_info": {
      "name": "python"
    }
  },
  "cells": [
    {
      "cell_type": "markdown",
      "metadata": {
        "id": "view-in-github",
        "colab_type": "text"
      },
      "source": [
        "<a href=\"https://colab.research.google.com/github/TranTrungHa/it-cert-automation-practice/blob/master/Untitled0.ipynb\" target=\"_parent\"><img src=\"https://colab.research.google.com/assets/colab-badge.svg\" alt=\"Open In Colab\"/></a>"
      ]
    },
    {
      "cell_type": "code",
      "execution_count": 163,
      "metadata": {
        "colab": {
          "base_uri": "https://localhost:8080/"
        },
        "id": "Wq8Q6kxJ0As5",
        "outputId": "02d6e84d-66d2-4129-e5a6-1752b58269b6"
      },
      "outputs": [
        {
          "output_type": "stream",
          "name": "stdout",
          "text": [
            "detect column loai the\n",
            "detect column so the\n",
            "detect column ngay\n",
            "detect column id\n",
            "detect column MA_CN\n",
            "Số thẻ is cleaned\n",
            "Loại thẻ is cleaned\n",
            "ngày tháng is cleaned\n",
            "Họ và Tên is cleaned\n",
            "   STT                         loai the            so the        ngay  \\\n",
            "0    1  VS Debit BRG Elite Ecommer Main  437420******6892  01/08/2022   \n",
            "1    2  VS Debit BRG Elite Ecommer Main  437420******1115  28/07/2022   \n",
            "2    3  VS Debit BRG Elite Ecommer Main  437420******1152  05/08/2022   \n",
            "3    4  VS Debit BRG Elite Ecommer Main  437420******4518  05/08/2022   \n",
            "4    5  VS Debit BRG Elite Ecommer Main  437420******2830  05/08/2022   \n",
            "\n",
            "         id                 name          sdt           ly do  \\\n",
            "0  16239726  NGUYEN THI PHI NGAN  908701110.0  CARD CLOSE 90D   \n",
            "1  15620851    VO THI MINH PHUOC  947520495.0  CARD CLOSE 90D   \n",
            "2  16252430             TRAN DAI  906741994.0  CARD CLOSE 90D   \n",
            "3  16251667    LE THI PHUONG CHI  987756750.0  CARD CLOSE 90D   \n",
            "4  16252500        LE HOANG DUNG  364531137.0  CARD CLOSE 90D   \n",
            "\n",
            "                   CN      MA_CN Số thẻ aft_clean  Loại thẻ aft_clean  \\\n",
            "0  CHI NHÁNH LONG AN   VN0010620   4374xxxxxx6892  VS Debit BRG Elite   \n",
            "1  CHI NHÁNH LONG AN   VN0010620   4374xxxxxx1115  VS Debit BRG Elite   \n",
            "2  CHI NHÁNH LONG AN   VN0010620   4374xxxxxx1152  VS Debit BRG Elite   \n",
            "3  CHI NHÁNH LONG AN   VN0010620   4374xxxxxx4518  VS Debit BRG Elite   \n",
            "4  CHI NHÁNH LONG AN   VN0010620   4374xxxxxx2830  VS Debit BRG Elite   \n",
            "\n",
            "  ngày tháng aft_clean  Họ và Tên aft_clean  \n",
            "0           2022-01-08  NGUYEN THI PHI NGAN  \n",
            "1           2022-07-28    VO THI MINH PHUOC  \n",
            "2           2022-05-08             TRAN DAI  \n",
            "3           2022-05-08    LE THI PHUONG CHI  \n",
            "4           2022-05-08        LE HOANG DUNG  \n"
          ]
        },
        {
          "output_type": "stream",
          "name": "stderr",
          "text": [
            "<ipython-input-163-62ccf0d79823>:63: FutureWarning: The default value of regex will change from True to False in a future version.\n",
            "  data_cleaned['Loại thẻ aft_clean'] = data_cleaned['Loại thẻ std'].str.replace('( Ecommer)|( Main)|( Sub)','')\n",
            "<ipython-input-163-62ccf0d79823>:68: UserWarning: Parsing dates in DD/MM/YYYY format when dayfirst=False (the default) was specified. This may lead to inconsistently parsed dates! Specify a format to ensure consistent parsing.\n",
            "  data_cleaned['ngày tháng aft_clean'] = pd.to_datetime(data_cleaned['ngày tháng std'])\n"
          ]
        }
      ],
      "source": [
        "import gc\n",
        "import os\n",
        "import pandas as pd, datetime as dt\n",
        "from datetime import date\n",
        "import regex as re\n",
        "\n",
        "# Đặt tên File cuối cùng theo ngày xuất\n",
        "Name_File =  \"FileKetQua{}\".format(date.today().strftime(\"%d%m%Y\"))\n",
        "\n",
        "# Lấy file so sánh\n",
        "df_all = pd.read_excel('/content/abc.xlsx',header =0,na_values ='N/A')\n",
        " \n",
        "#Xử lý file so sánh\n",
        "#Số thẻ nếu re dạng số thẻ: 4 số đầu, 4 số cuối và *** hoặc xxx\n",
        "Sothe = '(\\d{4})(\\*{1,16})(\\d{4})|(\\d{4})(x{1,16})(\\d{4})'\n",
        "#Loại thẻ nếu nằm trong list loại thẻ\n",
        "Loaithe = '(VS)|(VISA)|(MC)|(LOCAL)'\n",
        "#ngày phát hànhnếu chứa số và / , len =< 10\n",
        "ngaythang = '(\\d+/\\d+/\\d+)|(\\d+-\\d+-\\d+)'\n",
        "#ID Nếu chỉ chứa số và hay bắt đầu với 1\n",
        "ID = '^[1][0-9]{0,8}'\n",
        "#Tên nếu chỉ chứa chữ và độ unique lớn:\n",
        "HoTen = '[a-zA-Z\\s]+$'\n",
        "#MÃ DVKD bắt đầu với VN001\n",
        "MACN = '^VN001'\n",
        "# List tên hình mẫu và hình mẫu tương ứng\n",
        "list_partten = {'Số thẻ std':Sothe, 'Loại thẻ std':Loaithe, 'ngày tháng std':ngaythang, 'Mã KH std':ID,'Mã Chi nhánh std':MACN}\n",
        "# Xác định cột chứa số thẻ, loại thẻ, ngày phát hành, ID, Tên KH, Mã DVKD\n",
        "def find_col(data_in, pattern):\n",
        "  data1 = data_in\n",
        "  len1 = len(data1.index)\n",
        "  for name1 in data1.columns:\n",
        "    for name_pat, pat in pattern.items():\n",
        "      counting1 = (data1[name1].astype(str).str.count(pat, flags=2).sum())/len1\n",
        "      if counting1 > 0.8:\n",
        "        data1[name_pat] = data1[name1]\n",
        "        print('detect column {}'.format(name1))\n",
        "  data3 = clean_data(data1)\n",
        "  return data3\n",
        "\n",
        "def find_col_name(data_in, pattern):\n",
        "  data2 = data_in\n",
        "  for name1 in data2.columns:\n",
        "    for name_pat, pat in pattern.items():\n",
        "      if name1 not in name_pat:\n",
        "        if ((data2[name1].astype(str).str.count(HoTen).sum())/len(data2) > 0.85) & (data2[name1].nunique()/len(data2) > 0.9):\n",
        "          try:\n",
        "            data2['Họ và Tên aft_clean'] = data2['name'].str.strip()\n",
        "            print('Họ và Tên is cleaned')\n",
        "            break\n",
        "          except:\n",
        "            print('Cant clean Họ và Tên')\n",
        "  return data2\n",
        "\n",
        "def clean_data(data_in2):\n",
        "  data_cleaned = data_in2\n",
        "  try:\n",
        "    data_cleaned['Số thẻ aft_clean'] = data_cleaned['Số thẻ std'].str[:4] + 'xxxxxx' + data_cleaned['Số thẻ std'].str[-4:]\n",
        "    print('Số thẻ is cleaned')\n",
        "  except:\n",
        "    print('Cant clean Số thẻ')\n",
        "  try:\n",
        "    data_cleaned['Loại thẻ aft_clean'] = data_cleaned['Loại thẻ std'].str.replace('( Ecommer)|( Main)|( Sub)','')\n",
        "    print('Loại thẻ is cleaned')\n",
        "  except:\n",
        "    print('cant clean loại thẻ')\n",
        "  try:\n",
        "    data_cleaned['ngày tháng aft_clean'] = pd.to_datetime(data_cleaned['ngày tháng std'])\n",
        "    print('ngày tháng is cleaned')\n",
        "  except:\n",
        "    print('cant clean ngày tháng')\n",
        "  return data_cleaned\n",
        "    \n",
        "ketqua1 = find_col(df_all,list_partten)\n",
        "ketqua2 = find_col_name(ketqua1, list_partten)\n",
        "ketqua2 = ketqua2.drop(columns=['Số thẻ std', 'Loại thẻ std', 'ngày tháng std', 'Mã KH std','Mã Chi nhánh std'])\n",
        "ketqua2.to_excel(Name_File)"
      ]
    }
  ]
}